{
 "cells": [
  {
   "cell_type": "markdown",
   "metadata": {},
   "source": [
    " # Collaboration and Competition\n",
    "\n",
    " ---\n",
    "\n",
    " In this notebook, you will learn how to use the Unity ML-Agents environment for the third project of the [Deep Reinforcement Learning Nanodegree](https://www.udacity.com/course/deep-reinforcement-learning-nanodegree--nd893) program.\n",
    "\n",
    " ### 1. Start the Environment\n",
    "\n",
    " We begin by importing the necessary packages.  If the code cell below returns an error, please revisit the project instructions to double-check that you have installed [Unity ML-Agents](https://github.com/Unity-Technologies/ml-agents/blob/master/docs/Installation.md) and [NumPy](http://www.numpy.org/)."
   ]
  },
  {
   "cell_type": "code",
   "execution_count": 1,
   "metadata": {},
   "outputs": [
    {
     "name": "stdout",
     "output_type": "stream",
     "text": [
      "\u001b[31mtensorflow 1.7.1 has requirement numpy>=1.13.3, but you'll have numpy 1.12.1 which is incompatible.\u001b[0m\r\n",
      "\u001b[31mipython 6.5.0 has requirement prompt-toolkit<2.0.0,>=1.0.15, but you'll have prompt-toolkit 3.0.5 which is incompatible.\u001b[0m\r\n"
     ]
    }
   ],
   "source": [
    "!pip -q install ./python"
   ]
  },
  {
   "cell_type": "code",
   "execution_count": 2,
   "metadata": {},
   "outputs": [],
   "source": [
    "from unityagents import UnityEnvironment\n",
    "from collections import namedtuple, deque\n",
    "import numpy as np\n",
    "import torch\n",
    "from ddpg_agent import Multi_Agent\n",
    "\n",
    "import matplotlib.pyplot as plt\n",
    "%matplotlib inline"
   ]
  },
  {
   "cell_type": "code",
   "execution_count": 3,
   "metadata": {},
   "outputs": [
    {
     "name": "stderr",
     "output_type": "stream",
     "text": [
      "INFO:unityagents:\n",
      "'Academy' started successfully!\n",
      "Unity Academy name: Academy\n",
      "        Number of Brains: 1\n",
      "        Number of External Brains : 1\n",
      "        Lesson number : 0\n",
      "        Reset Parameters :\n",
      "\t\t\n",
      "Unity brain name: TennisBrain\n",
      "        Number of Visual Observations (per agent): 0\n",
      "        Vector Observation space type: continuous\n",
      "        Vector Observation space size (per agent): 8\n",
      "        Number of stacked Vector Observation: 3\n",
      "        Vector Action space type: continuous\n",
      "        Vector Action space size (per agent): 2\n",
      "        Vector Action descriptions: , \n"
     ]
    },
    {
     "name": "stdout",
     "output_type": "stream",
     "text": [
      "Size of each action: 2\n",
      "Number of agents: 2\n",
      "There are 2 agents. Each observes a state with length: 24\n",
      "The state for the first agent looks like: [ 0.          0.          0.          0.          0.          0.          0.\n",
      "  0.          0.          0.          0.          0.          0.          0.\n",
      "  0.          0.         -6.65278625 -1.5        -0.          0.\n",
      "  6.83172083  6.         -0.          0.        ]\n",
      "The state for the second agent looks like: [ 0.          0.          0.          0.          0.          0.          0.\n",
      "  0.          0.          0.          0.          0.          0.          0.\n",
      "  0.          0.         -6.4669857  -1.5         0.          0.\n",
      " -6.83172083  6.          0.          0.        ]\n"
     ]
    }
   ],
   "source": [
    "env = UnityEnvironment(file_name=\"/data/Tennis_Linux_NoVis/Tennis\")\n",
    "\n",
    "# get the default brain\n",
    "brain_name = env.brain_names[0]\n",
    "brain = env.brains[brain_name]\n",
    "\n",
    "env_info = env.reset(train_mode=True)[brain_name] # reset the environment\n",
    "num_agents = len(env_info.agents) # number of agents \n",
    "action_size = brain.vector_action_space_size # size of each action\n",
    "states = env_info.vector_observations # examine the state space \n",
    "state_size = states.shape[1]\n",
    "\n",
    "print('Size of each action:', action_size)\n",
    "print('Number of agents:', num_agents)\n",
    "print('There are {} agents. Each observes a state with length: {}'.format(states.shape[0], state_size))\n",
    "print('The state for the first agent looks like:', states[0])\n",
    "print('The state for the second agent looks like:', states[1])"
   ]
  },
  {
   "cell_type": "code",
   "execution_count": 4,
   "metadata": {},
   "outputs": [],
   "source": [
    "def exercise(n_episodes=10000, solve_score=0.5):\n",
    "    multi_agent = Multi_Agent(state_size, action_size, num_agents=2, GAMMA=0.99 , TAU=6e-2,\\\n",
    "                              EPS_S=7.0, EPS_E=0.01, EPS_D=0.997, BUF_S=int(1e6), BCH_S=128,\\\n",
    "                              LR_A=1e-3, LR_C=1e-3)\n",
    "    all_scores = []\n",
    "    scores_window = deque(maxlen=100)\n",
    "    av_scores = []\n",
    "\n",
    "    for i_episode in range(n_episodes):\n",
    "        env_info = env.reset(train_mode=True)[brain_name]\n",
    "        states = np.reshape(env_info.vector_observations, (1, state_size*multi_agent.num_agents))\n",
    "        multi_agent.reset()\n",
    "        episode_scores = np.zeros(multi_agent.num_agents)\n",
    "\n",
    "        i_step = 0\n",
    "        while True:\n",
    "            actions = multi_agent.act(states)                                                     # Calculate agent actions\n",
    "            env_info = env.step(actions)[brain_name]                                  # Send both agents' actions to the environment\n",
    "            next_states = np.reshape(env_info.vector_observations, (1, state_size*multi_agent.num_agents))         # Combine the agent states into one state space\n",
    "            rewards = env_info.rewards                                                # Get rewards\n",
    "            done = env_info.local_done                                                # Get completion status of episode\n",
    "            multi_agent.step(states, actions, rewards, next_states, done)                         # Learning steps for each agent\n",
    "\n",
    "            episode_scores += rewards                                                         # Update the agent scores\n",
    "            states = next_states                                                      # Roll the state forward\n",
    "            i_step += 1\n",
    "            if np.any(done):                                                          # Exit if episode completed\n",
    "                break\n",
    "\n",
    "        multi_agent.decay()\n",
    "\n",
    "        all_scores.append(np.max(episode_scores))\n",
    "        scores_window.append(np.max(episode_scores))\n",
    "        av_scores.append(np.mean(scores_window))\n",
    "\n",
    "        print('\\rEpisode {}\\tAverage Score: {:.3f}\\tScore: {:.3f}'.format(i_episode, np.mean(scores_window), np.max(episode_scores)), end=\"\")\n",
    "        if i_episode % 100 == 0:\n",
    "            print('\\rEpisode {}\\tAverage Score: {:.3f}'.format(i_episode, np.mean(scores_window)))\n",
    "            #if i_episode % 10 == 0:\n",
    "            #print('Episode {}\\tMax Reward: {:.3f}\\tAverage Reward: {:.3f}'.format(i_episode, np.max(episode_scores), np.mean(scores_window)))\n",
    "\n",
    "        if np.mean(scores_window) >= solve_score:\n",
    "            print('\\nEnvironment solved in {:d} episodes!\\tAverage Score: {:.3f}'.format(i_episode-100, np.mean(scores_window)))\n",
    "            multi_agent.save()\n",
    "            print (\"*** FINISHED TRAINING ***\")\n",
    "            break\n",
    "\n",
    "    return all_scores, av_scores"
   ]
  },
  {
   "cell_type": "code",
   "execution_count": 5,
   "metadata": {},
   "outputs": [
    {
     "name": "stdout",
     "output_type": "stream",
     "text": [
      "Episode 0\tAverage Score: 0.000\tScore: 0.000\n",
      "Episode 100\tAverage Score: 0.012\tScore: 0.000\n",
      "Episode 200\tAverage Score: 0.024\tScore: 0.000\n",
      "Episode 300\tAverage Score: 0.035\tScore: 0.000\n",
      "Episode 400\tAverage Score: 0.040\tScore: 0.000\n",
      "Episode 500\tAverage Score: 0.054\tScore: 0.090\n",
      "Episode 600\tAverage Score: 0.085\tScore: 0.100\n",
      "Episode 700\tAverage Score: 0.105\tScore: 0.100\n",
      "Episode 800\tAverage Score: 0.336\tScore: 1.600\n",
      "Episode 844\tAverage Score: 0.505\tScore: 2.600\n",
      "Environment solved in 744 episodes!\tAverage Score: 0.505\n",
      "*** FINISHED TRAINING ***\n"
     ]
    }
   ],
   "source": [
    "ascores, av_scores = exercise(solve_score=0.5);\n"
   ]
  },
  {
   "cell_type": "markdown",
   "metadata": {},
   "source": [
    " ### 4. Plot training episode scores\n"
   ]
  },
  {
   "cell_type": "code",
   "execution_count": null,
   "metadata": {},
   "outputs": [],
   "source": [
    "fig = plt.figure()\n",
    "ax = fig.add_subplot(111)\n",
    "plt.plot(np.arange(1, len(ascores)+1), ascores)\n",
    "plt.plot(np.arange(1, len(av_scores)+1), av_scores)\n",
    "plt.ylabel('Score')\n",
    "plt.xlabel('Episode #')\n",
    "plt.show()\n"
   ]
  },
  {
   "cell_type": "markdown",
   "metadata": {},
   "source": [
    " ### 5. Watch trained agents play tennis\n"
   ]
  },
  {
   "cell_type": "code",
   "execution_count": 19,
   "metadata": {},
   "outputs": [],
   "source": [
    "def play (num_episodes=1000):\n",
    "    # Set environment to evalulation mode\n",
    "    players=Multi_Agent(state_size, action_size, num_agents=2, GAMMA=0.99 , TAU=6e-2,\\\n",
    "                              EPS_S=7.0, EPS_E=0.01, EPS_D=0.997, BUF_S=int(1e6), BCH_S=128,\\\n",
    "                              LR_A=1e-3, LR_C=1e-3)\n",
    "    players.agents[0].actor_local.load_state_dict(torch.load('checkpoint_actor_0.pth'))\n",
    "    players.agents[0].critic_local.load_state_dict(torch.load('checkpoint_critic_0.pth'))\n",
    "    players.agents[1].actor_local.load_state_dict(torch.load('checkpoint_actor_1.pth'))\n",
    "    players.agents[1].critic_local.load_state_dict(torch.load('checkpoint_critic_1.pth'))\n",
    "\n",
    "    env_info = env.reset(train_mode=False)[brain_name]     # reset the environment    \n",
    "    states = env_info.vector_observations                  # get the current state (for each agent)\n",
    "    states = np.reshape(states, (1, state_size * 2))\n",
    "\n",
    "    for i in range(num_episodes):\n",
    "        actions = players.act(states, add_noise=False)             # select an action (for each agent)\n",
    "        env_info = env.step(actions)[brain_name]           # send all actions to tne environment\n",
    "        next_states = np.reshape(env_info.vector_observations, (1, state_size * 2))        # get next state (for each agent)\n",
    "        rewards = env_info.rewards                         # get reward (for each agent)\n",
    "        dones = env_info.local_done                        # see if episode finished\n",
    "        states = next_states                               # roll over states to next time step\n",
    "        if np.any(dones):                                  # exit loop if episode finished\n",
    "            break\n",
    "\n"
   ]
  },
  {
   "cell_type": "code",
   "execution_count": 21,
   "metadata": {},
   "outputs": [],
   "source": [
    "\n",
    "play()\n"
   ]
  },
  {
   "cell_type": "markdown",
   "metadata": {},
   "source": [
    " When finished, you can close the environment."
   ]
  },
  {
   "cell_type": "code",
   "execution_count": null,
   "metadata": {},
   "outputs": [],
   "source": [
    "env.close()\n"
   ]
  },
  {
   "cell_type": "code",
   "execution_count": null,
   "metadata": {},
   "outputs": [],
   "source": []
  }
 ],
 "metadata": {
  "file_extension": ".py",
  "kernelspec": {
   "display_name": "Python 3",
   "language": "python",
   "name": "python3"
  },
  "language_info": {
   "codemirror_mode": {
    "name": "ipython",
    "version": 3
   },
   "file_extension": ".py",
   "mimetype": "text/x-python",
   "name": "python",
   "nbconvert_exporter": "python",
   "pygments_lexer": "ipython3",
   "version": "3.6.3"
  },
  "mimetype": "text/x-python",
  "name": "python",
  "npconvert_exporter": "python",
  "pygments_lexer": "ipython3",
  "version": 3
 },
 "nbformat": 4,
 "nbformat_minor": 2
}
